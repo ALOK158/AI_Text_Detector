{
  "nbformat": 4,
  "nbformat_minor": 0,
  "metadata": {
    "colab": {
      "provenance": [],
      "gpuType": "T4",
      "authorship_tag": "ABX9TyMHXvDJiHYVNHxI+Fm0yQDE",
      "include_colab_link": true
    },
    "kernelspec": {
      "name": "python3",
      "display_name": "Python 3"
    },
    "language_info": {
      "name": "python"
    },
    "accelerator": "GPU"
  },
  "cells": [
    {
      "cell_type": "markdown",
      "metadata": {
        "id": "view-in-github",
        "colab_type": "text"
      },
      "source": [
        "<a href=\"https://colab.research.google.com/github/ALOK158/AI_Text_Detector/blob/main/GPT_FROM_SCRATCH.ipynb\" target=\"_parent\"><img src=\"https://colab.research.google.com/assets/colab-badge.svg\" alt=\"Open In Colab\"/></a>"
      ]
    },
    {
      "cell_type": "code",
      "source": [
        "import torch\n",
        "import pandas as pd\n",
        "import numpy as np"
      ],
      "metadata": {
        "id": "Xi5pshT4zjWD"
      },
      "execution_count": 25,
      "outputs": []
    },
    {
      "cell_type": "code",
      "execution_count": null,
      "metadata": {
        "colab": {
          "base_uri": "https://localhost:8080/"
        },
        "id": "OrMC_wNSqzAb",
        "outputId": "130ace9f-a56e-462d-e0fb-63b42badba80"
      },
      "outputs": [
        {
          "output_type": "stream",
          "name": "stdout",
          "text": [
            "--2025-06-28 08:38:10--  https://raw.githubusercontent.com/karpathy/char-rnn/master/data/tinyshakespeare/input.txt\n",
            "Resolving raw.githubusercontent.com (raw.githubusercontent.com)... 185.199.108.133, 185.199.109.133, 185.199.110.133, ...\n",
            "Connecting to raw.githubusercontent.com (raw.githubusercontent.com)|185.199.108.133|:443... connected.\n",
            "HTTP request sent, awaiting response... 200 OK\n",
            "Length: 1115394 (1.1M) [text/plain]\n",
            "Saving to: ‘input.txt’\n",
            "\n",
            "input.txt           100%[===================>]   1.06M  --.-KB/s    in 0.009s  \n",
            "\n",
            "2025-06-28 08:38:10 (113 MB/s) - ‘input.txt’ saved [1115394/1115394]\n",
            "\n"
          ]
        }
      ],
      "source": [
        "#Lets start with our data set that is of tiny shakespeare dataset\n",
        "!wget https://raw.githubusercontent.com/karpathy/char-rnn/master/data/tinyshakespeare/input.txt"
      ]
    },
    {
      "cell_type": "code",
      "source": [
        "# Lets read the text\n",
        "with open('input.txt', 'r', encoding='utf-8') as f:\n",
        "  text = f.read()"
      ],
      "metadata": {
        "id": "D_eZsPiysP2y"
      },
      "execution_count": null,
      "outputs": []
    },
    {
      "cell_type": "code",
      "source": [
        "print(\"Length of the dataset in characters: \", len(text))\n"
      ],
      "metadata": {
        "colab": {
          "base_uri": "https://localhost:8080/"
        },
        "id": "K5a474yVtEjj",
        "outputId": "c6c54f82-8b91-49a5-9390-b5d49c0e73eb"
      },
      "execution_count": null,
      "outputs": [
        {
          "output_type": "stream",
          "name": "stdout",
          "text": [
            "Length of the dataset in characters:  1115394\n"
          ]
        }
      ]
    },
    {
      "cell_type": "code",
      "source": [
        "#First 1000 char\n",
        "print(text[:10000])"
      ],
      "metadata": {
        "colab": {
          "base_uri": "https://localhost:8080/"
        },
        "id": "YU34d4XMtTWa",
        "outputId": "cc85ecc5-d517-4fd4-b67a-be5d38ba9069"
      },
      "execution_count": null,
      "outputs": [
        {
          "output_type": "stream",
          "name": "stdout",
          "text": [
            "First Citizen:\n",
            "Before we proceed any further, hear me speak.\n",
            "\n",
            "All:\n",
            "Speak, speak.\n",
            "\n",
            "First Citizen:\n",
            "You are all resolved rather to die than to famish?\n",
            "\n",
            "All:\n",
            "Resolved. resolved.\n",
            "\n",
            "First Citizen:\n",
            "First, you know Caius Marcius is chief enemy to the people.\n",
            "\n",
            "All:\n",
            "We know't, we know't.\n",
            "\n",
            "First Citizen:\n",
            "Let us kill him, and we'll have corn at our own price.\n",
            "Is't a verdict?\n",
            "\n",
            "All:\n",
            "No more talking on't; let it be done: away, away!\n",
            "\n",
            "Second Citizen:\n",
            "One word, good citizens.\n",
            "\n",
            "First Citizen:\n",
            "We are accounted poor citizens, the patricians good.\n",
            "What authority surfeits on would relieve us: if they\n",
            "would yield us but the superfluity, while it were\n",
            "wholesome, we might guess they relieved us humanely;\n",
            "but they think we are too dear: the leanness that\n",
            "afflicts us, the object of our misery, is as an\n",
            "inventory to particularise their abundance; our\n",
            "sufferance is a gain to them Let us revenge this with\n",
            "our pikes, ere we become rakes: for the gods know I\n",
            "speak this in hunger for bread, not in thirst for revenge.\n",
            "\n",
            "Second Citizen:\n",
            "Would you proceed especially against Caius Marcius?\n",
            "\n",
            "All:\n",
            "Against him first: he's a very dog to the commonalty.\n",
            "\n",
            "Second Citizen:\n",
            "Consider you what services he has done for his country?\n",
            "\n",
            "First Citizen:\n",
            "Very well; and could be content to give him good\n",
            "report fort, but that he pays himself with being proud.\n",
            "\n",
            "Second Citizen:\n",
            "Nay, but speak not maliciously.\n",
            "\n",
            "First Citizen:\n",
            "I say unto you, what he hath done famously, he did\n",
            "it to that end: though soft-conscienced men can be\n",
            "content to say it was for his country he did it to\n",
            "please his mother and to be partly proud; which he\n",
            "is, even till the altitude of his virtue.\n",
            "\n",
            "Second Citizen:\n",
            "What he cannot help in his nature, you account a\n",
            "vice in him. You must in no way say he is covetous.\n",
            "\n",
            "First Citizen:\n",
            "If I must not, I need not be barren of accusations;\n",
            "he hath faults, with surplus, to tire in repetition.\n",
            "What shouts are these? The other side o' the city\n",
            "is risen: why stay we prating here? to the Capitol!\n",
            "\n",
            "All:\n",
            "Come, come.\n",
            "\n",
            "First Citizen:\n",
            "Soft! who comes here?\n",
            "\n",
            "Second Citizen:\n",
            "Worthy Menenius Agrippa; one that hath always loved\n",
            "the people.\n",
            "\n",
            "First Citizen:\n",
            "He's one honest enough: would all the rest were so!\n",
            "\n",
            "MENENIUS:\n",
            "What work's, my countrymen, in hand? where go you\n",
            "With bats and clubs? The matter? speak, I pray you.\n",
            "\n",
            "First Citizen:\n",
            "Our business is not unknown to the senate; they have\n",
            "had inkling this fortnight what we intend to do,\n",
            "which now we'll show 'em in deeds. They say poor\n",
            "suitors have strong breaths: they shall know we\n",
            "have strong arms too.\n",
            "\n",
            "MENENIUS:\n",
            "Why, masters, my good friends, mine honest neighbours,\n",
            "Will you undo yourselves?\n",
            "\n",
            "First Citizen:\n",
            "We cannot, sir, we are undone already.\n",
            "\n",
            "MENENIUS:\n",
            "I tell you, friends, most charitable care\n",
            "Have the patricians of you. For your wants,\n",
            "Your suffering in this dearth, you may as well\n",
            "Strike at the heaven with your staves as lift them\n",
            "Against the Roman state, whose course will on\n",
            "The way it takes, cracking ten thousand curbs\n",
            "Of more strong link asunder than can ever\n",
            "Appear in your impediment. For the dearth,\n",
            "The gods, not the patricians, make it, and\n",
            "Your knees to them, not arms, must help. Alack,\n",
            "You are transported by calamity\n",
            "Thither where more attends you, and you slander\n",
            "The helms o' the state, who care for you like fathers,\n",
            "When you curse them as enemies.\n",
            "\n",
            "First Citizen:\n",
            "Care for us! True, indeed! They ne'er cared for us\n",
            "yet: suffer us to famish, and their store-houses\n",
            "crammed with grain; make edicts for usury, to\n",
            "support usurers; repeal daily any wholesome act\n",
            "established against the rich, and provide more\n",
            "piercing statutes daily, to chain up and restrain\n",
            "the poor. If the wars eat us not up, they will; and\n",
            "there's all the love they bear us.\n",
            "\n",
            "MENENIUS:\n",
            "Either you must\n",
            "Confess yourselves wondrous malicious,\n",
            "Or be accused of folly. I shall tell you\n",
            "A pretty tale: it may be you have heard it;\n",
            "But, since it serves my purpose, I will venture\n",
            "To stale 't a little more.\n",
            "\n",
            "First Citizen:\n",
            "Well, I'll hear it, sir: yet you must not think to\n",
            "fob off our disgrace with a tale: but, an 't please\n",
            "you, deliver.\n",
            "\n",
            "MENENIUS:\n",
            "There was a time when all the body's members\n",
            "Rebell'd against the belly, thus accused it:\n",
            "That only like a gulf it did remain\n",
            "I' the midst o' the body, idle and unactive,\n",
            "Still cupboarding the viand, never bearing\n",
            "Like labour with the rest, where the other instruments\n",
            "Did see and hear, devise, instruct, walk, feel,\n",
            "And, mutually participate, did minister\n",
            "Unto the appetite and affection common\n",
            "Of the whole body. The belly answer'd--\n",
            "\n",
            "First Citizen:\n",
            "Well, sir, what answer made the belly?\n",
            "\n",
            "MENENIUS:\n",
            "Sir, I shall tell you. With a kind of smile,\n",
            "Which ne'er came from the lungs, but even thus--\n",
            "For, look you, I may make the belly smile\n",
            "As well as speak--it tauntingly replied\n",
            "To the discontented members, the mutinous parts\n",
            "That envied his receipt; even so most fitly\n",
            "As you malign our senators for that\n",
            "They are not such as you.\n",
            "\n",
            "First Citizen:\n",
            "Your belly's answer? What!\n",
            "The kingly-crowned head, the vigilant eye,\n",
            "The counsellor heart, the arm our soldier,\n",
            "Our steed the leg, the tongue our trumpeter.\n",
            "With other muniments and petty helps\n",
            "In this our fabric, if that they--\n",
            "\n",
            "MENENIUS:\n",
            "What then?\n",
            "'Fore me, this fellow speaks! What then? what then?\n",
            "\n",
            "First Citizen:\n",
            "Should by the cormorant belly be restrain'd,\n",
            "Who is the sink o' the body,--\n",
            "\n",
            "MENENIUS:\n",
            "Well, what then?\n",
            "\n",
            "First Citizen:\n",
            "The former agents, if they did complain,\n",
            "What could the belly answer?\n",
            "\n",
            "MENENIUS:\n",
            "I will tell you\n",
            "If you'll bestow a small--of what you have little--\n",
            "Patience awhile, you'll hear the belly's answer.\n",
            "\n",
            "First Citizen:\n",
            "Ye're long about it.\n",
            "\n",
            "MENENIUS:\n",
            "Note me this, good friend;\n",
            "Your most grave belly was deliberate,\n",
            "Not rash like his accusers, and thus answer'd:\n",
            "'True is it, my incorporate friends,' quoth he,\n",
            "'That I receive the general food at first,\n",
            "Which you do live upon; and fit it is,\n",
            "Because I am the store-house and the shop\n",
            "Of the whole body: but, if you do remember,\n",
            "I send it through the rivers of your blood,\n",
            "Even to the court, the heart, to the seat o' the brain;\n",
            "And, through the cranks and offices of man,\n",
            "The strongest nerves and small inferior veins\n",
            "From me receive that natural competency\n",
            "Whereby they live: and though that all at once,\n",
            "You, my good friends,'--this says the belly, mark me,--\n",
            "\n",
            "First Citizen:\n",
            "Ay, sir; well, well.\n",
            "\n",
            "MENENIUS:\n",
            "'Though all at once cannot\n",
            "See what I do deliver out to each,\n",
            "Yet I can make my audit up, that all\n",
            "From me do back receive the flour of all,\n",
            "And leave me but the bran.' What say you to't?\n",
            "\n",
            "First Citizen:\n",
            "It was an answer: how apply you this?\n",
            "\n",
            "MENENIUS:\n",
            "The senators of Rome are this good belly,\n",
            "And you the mutinous members; for examine\n",
            "Their counsels and their cares, digest things rightly\n",
            "Touching the weal o' the common, you shall find\n",
            "No public benefit which you receive\n",
            "But it proceeds or comes from them to you\n",
            "And no way from yourselves. What do you think,\n",
            "You, the great toe of this assembly?\n",
            "\n",
            "First Citizen:\n",
            "I the great toe! why the great toe?\n",
            "\n",
            "MENENIUS:\n",
            "For that, being one o' the lowest, basest, poorest,\n",
            "Of this most wise rebellion, thou go'st foremost:\n",
            "Thou rascal, that art worst in blood to run,\n",
            "Lead'st first to win some vantage.\n",
            "But make you ready your stiff bats and clubs:\n",
            "Rome and her rats are at the point of battle;\n",
            "The one side must have bale.\n",
            "Hail, noble Marcius!\n",
            "\n",
            "MARCIUS:\n",
            "Thanks. What's the matter, you dissentious rogues,\n",
            "That, rubbing the poor itch of your opinion,\n",
            "Make yourselves scabs?\n",
            "\n",
            "First Citizen:\n",
            "We have ever your good word.\n",
            "\n",
            "MARCIUS:\n",
            "He that will give good words to thee will flatter\n",
            "Beneath abhorring. What would you have, you curs,\n",
            "That like nor peace nor war? the one affrights you,\n",
            "The other makes you proud. He that trusts to you,\n",
            "Where he should find you lions, finds you hares;\n",
            "Where foxes, geese: you are no surer, no,\n",
            "Than is the coal of fire upon the ice,\n",
            "Or hailstone in the sun. Your virtue is\n",
            "To make him worthy whose offence subdues him\n",
            "And curse that justice did it.\n",
            "Who deserves greatness\n",
            "Deserves your hate; and your affections are\n",
            "A sick man's appetite, who desires most that\n",
            "Which would increase his evil. He that depends\n",
            "Upon your favours swims with fins of lead\n",
            "And hews down oaks with rushes. Hang ye! Trust Ye?\n",
            "With every minute you do change a mind,\n",
            "And call him noble that was now your hate,\n",
            "Him vile that was your garland. What's the matter,\n",
            "That in these several places of the city\n",
            "You cry against the noble senate, who,\n",
            "Under the gods, keep you in awe, which else\n",
            "Would feed on one another? What's their seeking?\n",
            "\n",
            "MENENIUS:\n",
            "For corn at their own rates; whereof, they say,\n",
            "The city is well stored.\n",
            "\n",
            "MARCIUS:\n",
            "Hang 'em! They say!\n",
            "They'll sit by the fire, and presume to know\n",
            "What's done i' the Capitol; who's like to rise,\n",
            "Who thrives and who declines; side factions\n",
            "and give out\n",
            "Conjectural marriages; making parties strong\n",
            "And feebling such as stand not in their liking\n",
            "Below their cobbled shoes. They say there's\n",
            "grain enough!\n",
            "Would the nobility lay aside their ruth,\n",
            "And let me use my sword, I'll make a quarry\n",
            "With thousands of these quarter'd slaves, as high\n",
            "As I could pick my lance.\n",
            "\n",
            "MENENIUS:\n",
            "Nay, these are almost thoroughly persuaded;\n",
            "For though abundantly they lack discretion,\n",
            "Yet are they passing cowardly. But, I beseech you,\n",
            "What says the other troop?\n",
            "\n",
            "MARCIUS:\n",
            "They are dissolved: hang 'em!\n",
            "They said they were an-hungry; sigh'd forth proverbs,\n",
            "That hunger broke stone walls, that dogs must eat,\n",
            "That meat was made for mouths, that the gods sent not\n",
            "Corn for the rich men only: with these shreds\n",
            "They vented their complainings; which being answer'd,\n",
            "And a petition granted them, a strange one--\n",
            "To break the heart of generosity,\n",
            "And make bold power look pale--they threw their caps\n",
            "As they would hang them on the horns o' the moon,\n",
            "Shouting their emulation.\n",
            "\n",
            "MENENIUS:\n",
            "What is granted them?\n",
            "\n",
            "MARCIUS:\n",
            "Five tribunes to defend their vulgar wisdoms,\n",
            "Of their own choice: one's Junius Brutus,\n",
            "Sicinius Velutus, and I know not--'Sdeath!\n",
            "The rabble should have first unroof'd the city,\n",
            "Ere so prevail'd with me: \n"
          ]
        }
      ]
    },
    {
      "cell_type": "code",
      "source": [
        "# Get all uniuqe char in the text\n",
        "chars=sorted(list(set(text)))\n",
        "vocab_size=len(chars)\n",
        "print(''.join(chars))\n",
        "print(len(chars))\n"
      ],
      "metadata": {
        "colab": {
          "base_uri": "https://localhost:8080/"
        },
        "id": "UIrLsvCPuxp0",
        "outputId": "75febc33-4293-46cf-af0a-d0d4e6854bdd"
      },
      "execution_count": null,
      "outputs": [
        {
          "output_type": "stream",
          "name": "stdout",
          "text": [
            "\n",
            " !$&',-.3:;?ABCDEFGHIJKLMNOPQRSTUVWXYZabcdefghijklmnopqrstuvwxyz\n",
            "65\n"
          ]
        }
      ]
    },
    {
      "cell_type": "markdown",
      "source": [
        "##Tokenizing"
      ],
      "metadata": {
        "id": "TVls-5Sgw6G6"
      }
    },
    {
      "cell_type": "markdown",
      "source": [
        "Simplest way of tokenization- char level tokenization\n",
        "\n",
        "In future we will explore more in this for to improve our model"
      ],
      "metadata": {
        "id": "Af_kZTrryTlD"
      }
    },
    {
      "cell_type": "code",
      "source": [
        "stoi={ch:i for i,ch in enumerate(chars)}\n",
        "itos={i:ch for i,ch in enumerate(chars)}\n",
        "encode=lambda s:[stoi[c] for c in s]\n",
        "decode=lambda l:''.join([itos[i] for i in l])\n"
      ],
      "metadata": {
        "id": "U23ie7aYw4yB"
      },
      "execution_count": null,
      "outputs": []
    },
    {
      "cell_type": "code",
      "source": [
        "# lets encode our Shakespeare Text\n",
        "data=torch.tensor(encode(text),dtype=torch.long)\n",
        "print(data.shape, data.type)"
      ],
      "metadata": {
        "colab": {
          "base_uri": "https://localhost:8080/"
        },
        "id": "OG_2TN2tw8xP",
        "outputId": "502a6474-1379-4b1a-e3d7-1622c2e65b40"
      },
      "execution_count": null,
      "outputs": [
        {
          "output_type": "stream",
          "name": "stdout",
          "text": [
            "torch.Size([1115394]) <built-in method type of Tensor object at 0x788c81711fd0>\n"
          ]
        }
      ]
    },
    {
      "cell_type": "markdown",
      "source": [
        "Lets Split the data in Traing and Validation"
      ],
      "metadata": {
        "id": "nSiSoroQ3-mz"
      }
    },
    {
      "cell_type": "code",
      "source": [],
      "metadata": {
        "id": "-PZkOjoa5V6_"
      },
      "execution_count": null,
      "outputs": []
    },
    {
      "cell_type": "code",
      "source": [
        "n=int(0.9*len(data))\n",
        "train_data=data[:n]\n",
        "val_data=data[n:]"
      ],
      "metadata": {
        "id": "y0mTFbLZ3kOT"
      },
      "execution_count": null,
      "outputs": []
    },
    {
      "cell_type": "code",
      "source": [
        "block_size=8# sparese data in 8 times"
      ],
      "metadata": {
        "id": "WgF2veEd5XGh"
      },
      "execution_count": null,
      "outputs": []
    },
    {
      "cell_type": "code",
      "source": [
        "x= train_data[:block_size]\n",
        "y=train_data[1:block_size+1]\n",
        "for t in range(block_size):\n",
        "  context=x[:t]\n",
        "  target=y[t]\n",
        "  print(f\"when input is {context} the target is {target}\")"
      ],
      "metadata": {
        "colab": {
          "base_uri": "https://localhost:8080/"
        },
        "id": "YKX2X3o2c3ah",
        "outputId": "1b0db4c4-238e-429c-981c-a0ad9d728420"
      },
      "execution_count": null,
      "outputs": [
        {
          "output_type": "stream",
          "name": "stdout",
          "text": [
            "when input is tensor([], dtype=torch.int64) the target is 47\n",
            "when input is tensor([18]) the target is 56\n",
            "when input is tensor([18, 47]) the target is 57\n",
            "when input is tensor([18, 47, 56]) the target is 58\n",
            "when input is tensor([18, 47, 56, 57]) the target is 1\n",
            "when input is tensor([18, 47, 56, 57, 58]) the target is 15\n",
            "when input is tensor([18, 47, 56, 57, 58,  1]) the target is 47\n",
            "when input is tensor([18, 47, 56, 57, 58,  1, 15]) the target is 58\n"
          ]
        }
      ]
    },
    {
      "cell_type": "markdown",
      "source": [
        "splitting our data in smaller chunks"
      ],
      "metadata": {
        "id": "LipYdY_9fP3y"
      }
    },
    {
      "cell_type": "code",
      "source": [
        "torch.manual_seed(1337)\n",
        "batch_size=4# Independent sequnece gets proccess in pararell\n",
        "block_size=8 # Max context length\n",
        "\n",
        "def get_batch(split):\n",
        "  data=train_data if split=='train' else val_data\n",
        "  ix=torch.randint(len(data)- block_size, (batch_size,))\n",
        "  x=torch.stack([data[i:i+block_size] for i in ix])\n",
        "  y=torch.stack([data[i+1:i+1+block_size] for i in ix])\n",
        "  return x, y\n",
        "\n",
        "xb, yb= get_batch('train')\n",
        "print('inputs:')\n",
        "print(xb.shape)\n",
        "print(xb)\n",
        "print('targets:')\n",
        "print(yb.shape)\n",
        "print(yb)\n",
        "\n",
        "print('----')"
      ],
      "metadata": {
        "colab": {
          "base_uri": "https://localhost:8080/"
        },
        "id": "uJyGeiLFLAAE",
        "outputId": "6336b758-ea61-4c5b-d999-d2c8aea9f85e"
      },
      "execution_count": null,
      "outputs": [
        {
          "output_type": "stream",
          "name": "stdout",
          "text": [
            "inputs:\n",
            "torch.Size([4, 8])\n",
            "tensor([[24, 43, 58,  5, 57,  1, 46, 43],\n",
            "        [44, 53, 56,  1, 58, 46, 39, 58],\n",
            "        [52, 58,  1, 58, 46, 39, 58,  1],\n",
            "        [25, 17, 27, 10,  0, 21,  1, 54]])\n",
            "targets:\n",
            "torch.Size([4, 8])\n",
            "tensor([[43, 58,  5, 57,  1, 46, 43, 39],\n",
            "        [53, 56,  1, 58, 46, 39, 58,  1],\n",
            "        [58,  1, 58, 46, 39, 58,  1, 46],\n",
            "        [17, 27, 10,  0, 21,  1, 54, 39]])\n",
            "----\n"
          ]
        }
      ]
    },
    {
      "cell_type": "markdown",
      "source": [
        "BASELINE MODEL"
      ],
      "metadata": {
        "id": "WBBomcQjBZXL"
      }
    },
    {
      "cell_type": "code",
      "source": [
        "import torch\n",
        "import torch.nn as nn\n",
        "from torch.nn import functional as F\n",
        "torch.manual_seed(1337)\n",
        "\n",
        "class BigramLanguageModel(nn.Module):\n",
        "    def __init__(self, vocab_size):\n",
        "        super().__init__()\n",
        "        self.token_embedding_table = nn.Embedding(vocab_size, vocab_size)\n",
        "    def forward(self, idx, targets=None):\n",
        "        logits = self.token_embedding_table(idx) # (B,T,C)\n",
        "        if targets is None:\n",
        "            loss = None\n",
        "        else:\n",
        "          B, T, C=logits.shape\n",
        "          logits=logits.view(B*T,C)\n",
        "          targets=targets.view(B*T)\n",
        "          loss=F.cross_entropy(logits, targets)\n",
        "        return logits, loss\n",
        "    def generate(self, idx, max_new_tokens):\n",
        "        # idx is (B,T) array of indices in current context\n",
        "        for _ in range(max_new_tokens):\n",
        "          #do the prediciton\n",
        "          logits, loss=self(idx)\n",
        "          #focus only on last time step\n",
        "          logits=logits[:,-1,:]\n",
        "          #apply softmax to do prediction\n",
        "          probs=F.softmax(logits, dim=-1)# (B,C)\n",
        "          #sample from distribution\n",
        "          idx_next=torch.multinomial(probs, num_samples=1)#(B,1)\n",
        "          #append sample index to running sequnece\n",
        "          idx=torch.cat((idx, idx_next), dim=1)#(B,T+1)\n",
        "        return idx\n",
        "\n",
        "\n",
        "\n",
        "m= BigramLanguageModel(vocab_size)\n",
        "logits, loss=m(xb,yb)\n",
        "\n",
        "print(loss)\n",
        "\n",
        "idx=torch.zeros((1,1), dtype=torch.long)\n",
        "print(decode(m.generate(idx=torch.zeros((1,1), dtype =torch.long), max_new_tokens=100)[0].tolist()))"
      ],
      "metadata": {
        "colab": {
          "base_uri": "https://localhost:8080/"
        },
        "id": "MwfnTFscPm_F",
        "outputId": "cd3ddc0c-a672-4c98-8890-c48fe1c62c8f"
      },
      "execution_count": null,
      "outputs": [
        {
          "output_type": "stream",
          "name": "stdout",
          "text": [
            "tensor(4.8786, grad_fn=<NllLossBackward0>)\n",
            "\n",
            "Sr?qP-QWktXoL&jLDJgOLVz'RIoDqHdhsV&vLLxatjscMpwLERSPyao.qfzs$Ys$zF-w,;eEkzxjgCKFChs!iWW.ObzDnxA Ms$3\n"
          ]
        }
      ]
    },
    {
      "cell_type": "code",
      "source": [],
      "metadata": {
        "id": "IpMPkBJVxNRu"
      },
      "execution_count": null,
      "outputs": []
    },
    {
      "cell_type": "markdown",
      "source": [
        "Lets train the model"
      ],
      "metadata": {
        "id": "kDYh30-P9avT"
      }
    },
    {
      "cell_type": "code",
      "source": [
        "from torch.optim import AdamW\n",
        "# Create pytorch optimizer\n",
        "optimizer=torch.optim=AdamW(m.parameters(), lr=1e-4)\n"
      ],
      "metadata": {
        "id": "OfyvbsZv9cp_"
      },
      "execution_count": null,
      "outputs": []
    },
    {
      "cell_type": "code",
      "source": [
        "batch_size=16\n",
        "for steps in range(10000):\n",
        "  #sample a batch of data\n",
        "  xb,yb=get_batch('train')\n",
        "  #evaluate the loss\n",
        "  logits, loss=m(xb,yb)\n",
        "  optimizer.zero_grad(set_to_none=True)\n",
        "  loss.backward()\n",
        "  optimizer.step()\n",
        "\n",
        "print(loss.item())"
      ],
      "metadata": {
        "colab": {
          "base_uri": "https://localhost:8080/"
        },
        "id": "QpWjiAv79sEC",
        "outputId": "0a5a0869-c859-4b11-d65d-c676d2e6de94"
      },
      "execution_count": null,
      "outputs": [
        {
          "output_type": "stream",
          "name": "stdout",
          "text": [
            "3.753307342529297\n"
          ]
        }
      ]
    },
    {
      "cell_type": "code",
      "source": [
        "print(decode(m.generate(idx=torch.zeros((1,1), dtype =torch.long), max_new_tokens=100)[0].tolist()))"
      ],
      "metadata": {
        "colab": {
          "base_uri": "https://localhost:8080/"
        },
        "id": "lwg-3X5N-dQZ",
        "outputId": "0652e33f-2c88-4fbe-f833-10d9e74ed17e"
      },
      "execution_count": null,
      "outputs": [
        {
          "output_type": "stream",
          "name": "stdout",
          "text": [
            "\n",
            "vv.DWgzta!jKdaP!jXXEZKT:zz;:ZycTI&Q?Ezma;AUNKl!\n",
            "phTkV& !!$gCprIxly$gO'd,!jHDYdmOL:xfuD&VBjR\n",
            "Ju;h'qoT\n"
          ]
        }
      ]
    },
    {
      "cell_type": "markdown",
      "source": [
        "Maths Trick in self-attention  /"
      ],
      "metadata": {
        "id": "u53_2PDdC7U3"
      }
    },
    {
      "cell_type": "markdown",
      "source": [
        "For processing current token we will  need to carry info from all the previous tokens- one way - the average of all precious tokens"
      ],
      "metadata": {
        "id": "_eMdeF7UPvf2"
      }
    },
    {
      "cell_type": "code",
      "source": [
        "torch.manual_seed(1337)\n",
        "B,T,C=4,8,2 # btach, time, channel\n",
        "x= torch.randn(B,T,C)\n",
        "x.shape"
      ],
      "metadata": {
        "id": "nBTb-X3KDQbf",
        "colab": {
          "base_uri": "https://localhost:8080/"
        },
        "outputId": "543d1fcd-3141-42ed-fc6f-12713e37fa46"
      },
      "execution_count": null,
      "outputs": [
        {
          "output_type": "execute_result",
          "data": {
            "text/plain": [
              "torch.Size([4, 8, 2])"
            ]
          },
          "metadata": {},
          "execution_count": 17
        }
      ]
    },
    {
      "cell_type": "markdown",
      "source": [
        "How to do cal efficinetly??\n"
      ],
      "metadata": {
        "id": "lVLZYpsVQGRy"
      }
    },
    {
      "cell_type": "code",
      "source": [
        "#Version 1\n",
        "wei=torch.tril(torch.ones(T,T))\n",
        "wei=wei/wei.sum(1, keepdim=True)\n",
        "xbow2=wei @ x## (T,T)@ (B,T,C)----Pytorch---(B,T,T) @(B,T,C)\n",
        "xbow2"
      ],
      "metadata": {
        "colab": {
          "base_uri": "https://localhost:8080/"
        },
        "id": "THFtsYLEQKAv",
        "outputId": "bff2abf6-3e02-460b-96b2-0282bb4bfff2"
      },
      "execution_count": null,
      "outputs": [
        {
          "output_type": "execute_result",
          "data": {
            "text/plain": [
              "tensor([[[ 0.1808, -0.0700],\n",
              "         [-0.0894, -0.4926],\n",
              "         [ 0.1490, -0.3199],\n",
              "         [ 0.3504, -0.2238],\n",
              "         [ 0.3525,  0.0545],\n",
              "         [ 0.0688, -0.0396],\n",
              "         [ 0.0927, -0.0682],\n",
              "         [-0.0341,  0.1332]],\n",
              "\n",
              "        [[ 1.3488, -0.1396],\n",
              "         [ 0.8173,  0.4127],\n",
              "         [-0.1342,  0.4395],\n",
              "         [ 0.2711,  0.4774],\n",
              "         [ 0.2421,  0.0694],\n",
              "         [ 0.0084,  0.0020],\n",
              "         [ 0.0712, -0.1128],\n",
              "         [ 0.2527,  0.2149]],\n",
              "\n",
              "        [[-0.6631, -0.2513],\n",
              "         [ 0.1735, -0.0649],\n",
              "         [ 0.1685,  0.3348],\n",
              "         [-0.1621,  0.1765],\n",
              "         [-0.2312, -0.0436],\n",
              "         [-0.1015, -0.2855],\n",
              "         [-0.2593, -0.1630],\n",
              "         [-0.3015, -0.2293]],\n",
              "\n",
              "        [[ 1.6455, -0.8030],\n",
              "         [ 1.4985, -0.5395],\n",
              "         [ 0.4954,  0.3420],\n",
              "         [ 1.0623, -0.1802],\n",
              "         [ 1.1401, -0.4462],\n",
              "         [ 1.0870, -0.4071],\n",
              "         [ 1.0430, -0.1299],\n",
              "         [ 1.1138, -0.1641]]])"
            ]
          },
          "metadata": {},
          "execution_count": 18
        }
      ]
    },
    {
      "cell_type": "code",
      "source": [
        "t=torch.tril(torch.ones(T,T))"
      ],
      "metadata": {
        "id": "-bzs3ILkenSV"
      },
      "execution_count": null,
      "outputs": []
    },
    {
      "cell_type": "code",
      "source": [
        "#ver 2\n",
        "torch.manual_seed(1337)\n",
        "B,T,C=4,8,2 # btach, time, channel\n",
        "x= torch.randn(B,T,C)\n",
        "\n",
        "# head of self-Attention\n",
        "head_size=16\n",
        "key=nn.Linear(C, head_size, bias=False)\n",
        "query=nn.Linear(C, head_size, bias=False)\n",
        "value=nn.Linear(C, head_size, bias=False)\n",
        "\n",
        "k=key(x) #(B,T,16)\n",
        "q=query(x) #(B,T,16)\n",
        "wei=q @ k.transpose(-2,-1) # (B,T,16) @ (B,T,16) --(B,T,16) @ (B,16,T)-> (B,T,T)\n",
        "\n",
        "\n",
        "\n",
        "t=torch.tril(torch.ones(T,T))\n",
        "wei=torch.zeros((T,T))\n",
        "wei=wei.masked_fill(t==0, float('-inf'))\n",
        "wei=F.softmax(wei, dim=1)\n",
        "wei\n",
        "# wei get the same as we get previously\n",
        "# -- previous info and current get togehter --- avergae out"
      ],
      "metadata": {
        "colab": {
          "base_uri": "https://localhost:8080/"
        },
        "id": "4RGf_k5RU7SS",
        "outputId": "6db2a67c-5b0b-4af1-86b7-6b6d2d6251ef"
      },
      "execution_count": null,
      "outputs": [
        {
          "output_type": "execute_result",
          "data": {
            "text/plain": [
              "tensor([[1.0000, 0.0000, 0.0000, 0.0000, 0.0000, 0.0000, 0.0000, 0.0000],\n",
              "        [0.5000, 0.5000, 0.0000, 0.0000, 0.0000, 0.0000, 0.0000, 0.0000],\n",
              "        [0.3333, 0.3333, 0.3333, 0.0000, 0.0000, 0.0000, 0.0000, 0.0000],\n",
              "        [0.2500, 0.2500, 0.2500, 0.2500, 0.0000, 0.0000, 0.0000, 0.0000],\n",
              "        [0.2000, 0.2000, 0.2000, 0.2000, 0.2000, 0.0000, 0.0000, 0.0000],\n",
              "        [0.1667, 0.1667, 0.1667, 0.1667, 0.1667, 0.1667, 0.0000, 0.0000],\n",
              "        [0.1429, 0.1429, 0.1429, 0.1429, 0.1429, 0.1429, 0.1429, 0.0000],\n",
              "        [0.1250, 0.1250, 0.1250, 0.1250, 0.1250, 0.1250, 0.1250, 0.1250]])"
            ]
          },
          "metadata": {},
          "execution_count": 20
        }
      ]
    },
    {
      "cell_type": "code",
      "source": [
        "#ver 2\n",
        "torch.manual_seed(1337)\n",
        "B,T,C=4,8,32 # btach, time, channel\n",
        "x= torch.randn(B,T,C)\n",
        "\n",
        "# head of self-Attention---> So evey token have 2 values--- @Query(what it looking) & @ Key(what it has)\n",
        "head_size=16\n",
        "key=nn.Linear(C, head_size, bias=False)\n",
        "query=nn.Linear(C, head_size, bias=False)\n",
        "value=nn.Linear(C, head_size, bias=False)\n",
        "\n",
        "k=key(x) #(B,T,16)\n",
        "q=query(x) #(B,T,16)\n",
        "wei=q @ k.transpose(-2,-1) # (B,T,16) @ (B,T,16) --(B,T,16) @ (B,16,T)-> (B,T,T)\n",
        "\n",
        "\n",
        "\n",
        "t=torch.tril(torch.ones(T,T))\n",
        "wei=wei.masked_fill(t==0, float('-inf'))\n",
        "wei=F.softmax(wei, dim=-1)\n",
        "v=value(x)\n",
        "out =wei @v\n",
        "# wei get the same as we get previously\n",
        "# -- previous info and current get togehter --- avergae out"
      ],
      "metadata": {
        "id": "EK9KBYNfvO4b"
      },
      "execution_count": null,
      "outputs": []
    },
    {
      "cell_type": "code",
      "source": [
        "wei[0]"
      ],
      "metadata": {
        "colab": {
          "base_uri": "https://localhost:8080/"
        },
        "id": "J5xqH1SHD0dd",
        "outputId": "6237458f-d848-4622-d3b6-cc4977c8c519"
      },
      "execution_count": null,
      "outputs": [
        {
          "output_type": "execute_result",
          "data": {
            "text/plain": [
              "tensor([[1.0000, 0.0000, 0.0000, 0.0000, 0.0000, 0.0000, 0.0000, 0.0000],\n",
              "        [0.1574, 0.8426, 0.0000, 0.0000, 0.0000, 0.0000, 0.0000, 0.0000],\n",
              "        [0.2088, 0.1646, 0.6266, 0.0000, 0.0000, 0.0000, 0.0000, 0.0000],\n",
              "        [0.5792, 0.1187, 0.1889, 0.1131, 0.0000, 0.0000, 0.0000, 0.0000],\n",
              "        [0.0294, 0.1052, 0.0469, 0.0276, 0.7909, 0.0000, 0.0000, 0.0000],\n",
              "        [0.0176, 0.2689, 0.0215, 0.0089, 0.6812, 0.0019, 0.0000, 0.0000],\n",
              "        [0.1691, 0.4066, 0.0438, 0.0416, 0.1048, 0.2012, 0.0329, 0.0000],\n",
              "        [0.0210, 0.0843, 0.0555, 0.2297, 0.0573, 0.0709, 0.2423, 0.2391]],\n",
              "       grad_fn=<SelectBackward0>)"
            ]
          },
          "metadata": {},
          "execution_count": 23
        }
      ]
    },
    {
      "cell_type": "code",
      "source": [
        "import torch\n",
        "import torch.nn as nn\n",
        "from torch.nn import functional as F\n",
        "torch.manual_seed(1337)\n",
        "# hyperparameters\n",
        "batch_size = 32 # how many independent sequences will we process in parallel?\n",
        "block_size = 8 # what is the maximum context length for predictions?\n",
        "max_iters = 5000\n",
        "eval_interval = 500\n",
        "learning_rate = 1e—3\n",
        "\n",
        "eval_iters = 200\n",
        "n_embd = 32\n"
      ],
      "metadata": {
        "colab": {
          "base_uri": "https://localhost:8080/",
          "height": 106
        },
        "id": "GV9O5jtdtqX_",
        "outputId": "ca8bdfe4-5aa2-49f1-f114-e8cf3b0ec0a9"
      },
      "execution_count": null,
      "outputs": [
        {
          "output_type": "error",
          "ename": "SyntaxError",
          "evalue": "invalid decimal literal (ipython-input-13-3009318968.py, line 10)",
          "traceback": [
            "\u001b[0;36m  File \u001b[0;32m\"/tmp/ipython-input-13-3009318968.py\"\u001b[0;36m, line \u001b[0;32m10\u001b[0m\n\u001b[0;31m    learning_rate = 1e—3\u001b[0m\n\u001b[0m                    ^\u001b[0m\n\u001b[0;31mSyntaxError\u001b[0m\u001b[0;31m:\u001b[0m invalid decimal literal\n"
          ]
        }
      ]
    },
    {
      "cell_type": "code",
      "source": [
        "import torch\n",
        "import torch.nn as nn\n",
        "from torch.nn import functional as F\n",
        "torch.manual_seed(1337)\n",
        "# hyperparameters\n",
        "batch_size = 32 # how many independent sequences will we process in parallel?\n",
        "block_size = 8 # what is the maximum context length for predictions?\n",
        "max_iters = 5000\n",
        "eval_interval = 500\n",
        "learning_rate = 1e-3 # Corrected hyphen to minus sign\n",
        "dropout = 0.1 # Added dropout definition\n",
        "\n",
        "eval_iters = 200\n",
        "n_embd = 32\n",
        "\n",
        "class Head(nn.Module):\n",
        "  \"\"\"Single Head of Self Attention\"\"\"\n",
        "  def __init__(self, head_size):\n",
        "    super().__init__()\n",
        "    self.key=nn.Linear(n_embd, head_size, bias=False)\n",
        "    self.query=nn.Linear(n_embd, head_size, bias=False)\n",
        "    self.value=nn.Linear(n_embd, head_size, bias=False)\n",
        "    self.register_buffer('tril', torch.tril(torch.ones(block_size, block_size)))\n",
        "  def forward(self,x):\n",
        "    B,T,C=x.shape\n",
        "    k=self.key(x)\n",
        "    q=self.query(x)\n",
        "    #Compute attention score(\"\"affinities)\n",
        "    wei =q @ k.transpose(-2,-1)* C**-0.5\n",
        "    wei= wei.masked_fill(self.tril[:T,:T]==0, float('-inf')) # Corrected trill to tril\n",
        "    wei=F.softmax(wei, dim=-1)\n",
        "    #perfrom the weighted aggregation of values\n",
        "    v=self.value(x)# (B,T,C) # Corrected values to value\n",
        "    out =wei @ v\n",
        "    return out\n",
        "\n",
        "class FeedForward(nn.Module):\n",
        "  \"\"\"A simple linear layer followed by a non-linearity\"\"\"\n",
        "  def __init__(self, n_embd):\n",
        "    super().__init__()\n",
        "    self.net=nn.Sequential(\n",
        "        nn.Linear(n_embd, n_embd),\n",
        "        nn.ReLU(),\n",
        "      )\n",
        "  def forward(self, x):\n",
        "     return self.net(x)\n",
        "\n",
        "\n",
        "\n",
        "\n",
        "class MultiHeadAttention(nn.Module):\n",
        "  \"\"\"Multiple heads of self attention model----By rrunning multiple heads in parrallel\"\"\"\n",
        "  def __init__(self, num_heads, head_size):\n",
        "    super().__init__()\n",
        "    self.heads=nn.ModuleList([Head(head_size) for _ in range(num_heads)])\n",
        "    self.proj=nn.Linear(n_embd, n_embd)\n",
        "    self.dropout=nn.Dropout(dropout)\n",
        "  def forward(self, x):\n",
        "    return torch.cat([h(x) for h in self.heads], dim=-1)\n",
        "    self.proj(x)\n",
        "    self.dropout(x)\n",
        "\n",
        "class BigramLanguageModel(nn.Module): # Corrected indentation\n",
        "    def __init__(self):\n",
        "        super().__init__()\n",
        "        self.token_embedding_table = nn.Embedding(vocab_size, n_embd)\n",
        "        self.position_embedding_table = nn.Embedding(block_size, n_embd) # Added positional embedding\n",
        "        self.sa_head= MultiHeadAttention(4, n_embd//4)# 4 head of 8-dimenional self-attention\n",
        "        self.ffwd=FeedForward(n_embd)\n",
        "        self.lm_head=nn.Linear(n_embd, vocab_size)\n",
        "\n",
        "    def forward(self, idx, targets=None):\n",
        "        B, T = idx.shape # Get B and T from idx\n",
        "        #positional encoding\n",
        "        tok_embd = self.token_embedding_table(idx) # (B,T,C)\n",
        "        pos_emb = self.position_embedding_table(torch.arange(T, device=idx.device)) # (T,C), use idx.device\n",
        "        x = tok_embd + pos_emb # (B,T,C)\n",
        "        x=self.sa_head(x)#Applied one self attention head\n",
        "        x=self.ffwd(x)\n",
        "        logits = self.lm_head(x) # (B,T,vocab_size)\n",
        "        if targets is None:\n",
        "            loss = None\n",
        "        else:\n",
        "          B, T, C=logits.shape\n",
        "          logits=logits.view(B*T,C)\n",
        "          targets=targets.view(B*T)\n",
        "          loss=F.cross_entropy(logits, targets)\n",
        "        return logits, loss\n",
        "    def generate(self, idx, max_new_tokens):\n",
        "        # idx is (B,T) array of indices in current context\n",
        "        for _ in range(max_new_tokens):\n",
        "          # crop idsx to the last bloc_size tokens\n",
        "          idx_cond=idx[:, -block_size:]\n",
        "          #do the prediciton\n",
        "          logits, loss=self(idx_cond) # Use idx_cond for prediction\n",
        "          #focus only on last time step\n",
        "          logits=logits[:,-1,:]\n",
        "          #apply softmax to do prediction\n",
        "          probs=F.softmax(logits, dim=-1)# (B,C)\n",
        "          #sample from distribution\n",
        "          idx_next=torch.multinomial(probs, num_samples=1)#(B,1)\n",
        "          #append sample index to running sequnece\n",
        "          idx=torch.cat((idx, idx_next), dim=1)#(B,T+1)\n",
        "        return idx\n",
        "\n",
        "# The training loop is incomplete in the user's provided code, so it's not included in this fix.\n",
        "# You would need to instantiate the model and optimizer and then run the training loop."
      ],
      "metadata": {
        "id": "Bl4kfiI0kxXo"
      },
      "execution_count": null,
      "outputs": []
    },
    {
      "cell_type": "code",
      "source": [],
      "metadata": {
        "id": "4s0BayP2tpjW"
      },
      "execution_count": null,
      "outputs": []
    },
    {
      "cell_type": "code",
      "metadata": {
        "colab": {
          "base_uri": "https://localhost:8080/"
        },
        "id": "80de9f18",
        "outputId": "7a7e07ce-7024-4cad-f9e3-487699c00841"
      },
      "source": [
        "model = BigramLanguageModel()\n",
        "optimizer = torch.optim.AdamW(model.parameters(), lr=learning_rate)\n",
        "\n",
        "for iter in range(max_iters):\n",
        "\n",
        "    # sample a batch of data\n",
        "    xb, yb = get_batch('train')\n",
        "\n",
        "    # evaluate the loss\n",
        "    logits, loss = model(xb, yb)\n",
        "    optimizer.zero_grad(set_to_none=True)\n",
        "    loss.backward()\n",
        "    optimizer.step()\n",
        "\n",
        "    if iter % eval_interval == 0 or iter == max_iters - 1:\n",
        "        print(f\"step {iter}: loss {loss.item()}\")"
      ],
      "execution_count": null,
      "outputs": [
        {
          "output_type": "stream",
          "name": "stdout",
          "text": [
            "step 0: loss 4.193199634552002\n",
            "step 500: loss 2.6422359943389893\n",
            "step 1000: loss 2.5968575477600098\n",
            "step 1500: loss 2.3634629249572754\n",
            "step 2000: loss 2.318666696548462\n",
            "step 2500: loss 2.281993865966797\n",
            "step 3000: loss 2.3047988414764404\n",
            "step 3500: loss 2.4023983478546143\n",
            "step 4000: loss 2.3705263137817383\n",
            "step 4500: loss 2.3104121685028076\n",
            "step 4999: loss 2.163257122039795\n"
          ]
        }
      ]
    },
    {
      "cell_type": "code",
      "source": [
        "import torch\n",
        "import torch.nn as nn\n",
        "from torch.nn import functional as F\n",
        "torch.manual_seed(1337)\n",
        "# hyperparameters\n",
        "batch_size = 32 # how many independent sequences will we process in parallel?\n",
        "block_size = 8 # what is the maximum context length for predictions?\n",
        "max_iters = 5000\n",
        "eval_interval = 500\n",
        "learning_rate = 1e-3 # Corrected hyphen to minus sign\n",
        "dropout = 0.1 # Added dropout definition\n",
        "\n",
        "eval_iters = 200\n",
        "n_embd = 32\n",
        "\n",
        "class Head(nn.Module):\n",
        "  \"\"\"Single Head of Self Attention\"\"\"\n",
        "  def __init__(self, head_size):\n",
        "    super().__init__()\n",
        "    self.key=nn.Linear(n_embd, head_size, bias=False)\n",
        "    self.query=nn.Linear(n_embd, head_size, bias=False)\n",
        "    self.value=nn.Linear(n_embd, head_size, bias=False)\n",
        "    self.register_buffer('tril', torch.tril(torch.ones(block_size, block_size)))\n",
        "  def forward(self,x):\n",
        "    B,T,C=x.shape\n",
        "    k=self.key(x)\n",
        "    q=self.query(x)\n",
        "    #Compute attention score(\"\"affinities)\n",
        "    wei =q @ k.transpose(-2,-1)* C**-0.5\n",
        "    wei= wei.masked_fill(self.tril[:T,:T]==0, float('-inf')) # Corrected trill to tril\n",
        "    wei=F.softmax(wei, dim=-1)\n",
        "    #perfrom the weighted aggregation of values\n",
        "    v=self.value(x)# (B,T,C) # Corrected values to value\n",
        "    out =wei @ v\n",
        "    return out\n",
        "\n",
        "class FeedForward(nn.Module):\n",
        "  \"\"\"A simple linear layer followed by a non-linearity\"\"\"\n",
        "  def __init__(self, n_embd):\n",
        "    super().__init__()\n",
        "    self.net=nn.Sequential(\n",
        "        nn.Linear(n_embd, 4*n_embd),\n",
        "        nn.ReLU(),\n",
        "        nn.Linear(4*n_embd, n_embd),\n",
        "        nn.Dropout(dropout),\n",
        "      )\n",
        "  def forward(self, x):\n",
        "     return self.net(x)\n",
        "\n",
        "\n",
        "\n",
        "\n",
        "class MultiHeadAttention(nn.Module):\n",
        "  \"\"\"Multiple heads of self attention model----By rrunning multiple heads in parrallel\"\"\"\n",
        "  def __init__(self, num_heads, head_size):\n",
        "    super().__init__()\n",
        "    self.heads=nn.ModuleList([Head(head_size) for _ in range(num_heads)])\n",
        "    self.proj=nn.Linear(n_embd, n_embd)\n",
        "    self.dropout=nn.Dropout(dropout)\n",
        "  def forward(self, x):\n",
        "    out = torch.cat([h(x) for h in self.heads], dim=-1)\n",
        "    out =self.proj(out)\n",
        "    out=self.dropout(out) # Apply dropout and return the result\n",
        "    return out\n",
        "\n",
        "class BatchNorm1d:\n",
        "  def __init__(self, dim, eps=1e-5, momentum=0.1):\n",
        "    self.eps=eps\n",
        "    #parameters (trained with backdrop)\n",
        "    self.gamma=torch.ones(dim)\n",
        "    self.beta=torch.zeros(dim)\n",
        "  def __call__(self,x):\n",
        "    #cal forward pass\n",
        "    xmean= x.mean(1, keepdim=True)#batch mean\n",
        "    xvar = x.var(1, keepdim=True) #batch variance\n",
        "    xhat=(x-xmean)/torch.sqrt(xvar + self.eps) # normalize to unit varaince\n",
        "    self.out =self.gamma * xhat + self.beta\n",
        "    return self.out\n",
        "  def parameters(self):\n",
        "    return [self.gamma, self.beta]\n",
        "\n",
        "class Block(nn.Module):\n",
        "  \"\"\"Transformer block: communication followed by computation\"\"\"\n",
        "  def __init__(self, n_embd, n_head):\n",
        "    # n_embd: embedding dimension, n_head: the number of heads we'd like\n",
        "    super().__init__()\n",
        "    head_size=n_embd//n_head\n",
        "    self.sa=MultiHeadAttention(n_head, head_size)\n",
        "    self.ffwd=FeedForward(n_embd)\n",
        "    self.ln1=nn.LayerNorm(n_embd)\n",
        "    self.ln2=nn.LayerNorm(n_embd)\n",
        "  def forward(self, x):\n",
        "    x=x+self.sa(self.ln1(x))\n",
        "    x=x+self.ffwd(self.ln2(x))\n",
        "    return x\n",
        "\n",
        "\n",
        "\n",
        "class BigramLanguageModel(nn.Module): # Corrected indentation\n",
        "    def __init__(self):\n",
        "        super().__init__()\n",
        "        self.token_embedding_table = nn.Embedding(vocab_size, n_embd)\n",
        "        self.position_embedding_table = nn.Embedding(block_size, n_embd) # Added positional embedding\n",
        "        self.Block=nn.Sequential(\n",
        "            Block(n_embd, n_head=4),\n",
        "            Block(n_embd, n_head=4),\n",
        "            Block(n_embd, n_head=4),\n",
        "            nn.LayerNorm(n_embd)\n",
        "        )\n",
        "        self.lm_head=nn.Linear(n_embd, vocab_size)\n",
        "\n",
        "    def forward(self, idx, targets=None):\n",
        "        B, T = idx.shape # Get B and T from idx\n",
        "        #positional encoding\n",
        "        tok_embd = self.token_embedding_table(idx) # (B,T,C)\n",
        "        pos_emb = self.position_embedding_table(torch.arange(T, device=idx.device)) # (T,C), use idx.device\n",
        "        x = tok_embd + pos_emb # (B,T,C)\n",
        "        x=self.Block(x)#Applied one self attention head\n",
        "        logits = self.lm_head(x) # (B,T,vocab_size)\n",
        "        if targets is None:\n",
        "            loss = None\n",
        "        else:\n",
        "          B, T, C=logits.shape\n",
        "          logits=logits.view(B*T,C)\n",
        "          targets=targets.view(B*T)\n",
        "          loss=F.cross_entropy(logits, targets)\n",
        "        return logits, loss\n",
        "    def generate(self, idx, max_new_tokens):\n",
        "        # idx is (B,T) array of indices in current context\n",
        "        for _ in range(max_new_tokens):\n",
        "          # crop idsx to the last bloc_size tokens\n",
        "          idx_cond=idx[:, -block_size:]\n",
        "          #do the prediciton\n",
        "          logits, loss=self(idx_cond) # Use idx_cond for prediction\n",
        "          #focus only on last time step\n",
        "          logits=logits[:,-1,:]\n",
        "          #apply softmax to do prediction\n",
        "          probs=F.softmax(logits, dim=-1)# (B,C)\n",
        "          #sample from distribution\n",
        "          idx_next=torch.multinomial(probs, num_samples=1)#(B,1)\n",
        "          #append sample index to running sequnece\n",
        "          idx=torch.cat((idx, idx_next), dim=1)#(B,T+1)\n",
        "        return idx\n",
        "\n",
        "# The training loop is incomplete in the user's provided code, so it's not included in this fix.\n",
        "# You would need to instantiate the model and optimizer and then run the training loop."
      ],
      "metadata": {
        "id": "ve2vZHZMRuXX"
      },
      "execution_count": null,
      "outputs": []
    },
    {
      "cell_type": "code",
      "source": [
        "@torch.no_grad()\n",
        "def estimate_loss():\n",
        "    out = {}\n",
        "    model.eval()\n",
        "    for split in ['train', 'val']:\n",
        "        losses = torch.zeros(eval_iters)\n",
        "        for k in range(eval_iters):\n",
        "            X, Y = get_batch(split)\n",
        "            logits, loss = model(X, Y)\n",
        "            losses[k] = loss.item()\n",
        "        out[split] = losses.mean()\n",
        "    model.train()\n",
        "    return out\n",
        "\n",
        "model = BigramLanguageModel()\n",
        "optimizer = torch.optim.AdamW(model.parameters(), lr=learning_rate)\n",
        "\n",
        "for iter in range(max_iters):\n",
        "\n",
        "    # evaluate loss on train and val sets\n",
        "    if iter % eval_interval == 0 or iter == max_iters - 1:\n",
        "        losses = estimate_loss()\n",
        "        print(f\"step {iter}: train loss {losses['train']:.4f}, val loss {losses['val']:.4f}\")\n",
        "\n",
        "    # sample a batch of data\n",
        "    xb, yb = get_batch('train')\n",
        "\n",
        "    # evaluate the loss\n",
        "    logits, loss = model(xb, yb)\n",
        "    optimizer.zero_grad(set_to_none=True)\n",
        "    loss.backward()\n",
        "    optimizer.step()"
      ],
      "metadata": {
        "colab": {
          "base_uri": "https://localhost:8080/"
        },
        "id": "Pgec24BIcTmN",
        "outputId": "14a402f6-b610-44ba-ef14-c2de5517302a"
      },
      "execution_count": null,
      "outputs": [
        {
          "output_type": "stream",
          "name": "stdout",
          "text": [
            "step 0: train loss 4.3103, val loss 4.3097\n",
            "step 500: train loss 2.4110, val loss 2.4123\n",
            "step 1000: train loss 2.2752, val loss 2.2859\n",
            "step 1500: train loss 2.1725, val loss 2.2143\n",
            "step 2000: train loss 2.1424, val loss 2.1723\n",
            "step 2500: train loss 2.0927, val loss 2.1559\n",
            "step 3000: train loss 2.0822, val loss 2.1332\n",
            "step 3500: train loss 2.0630, val loss 2.1169\n",
            "step 4000: train loss 2.0397, val loss 2.0850\n",
            "step 4500: train loss 2.0263, val loss 2.0915\n",
            "step 4999: train loss 1.9961, val loss 2.0732\n"
          ]
        }
      ]
    },
    {
      "cell_type": "code",
      "source": [
        "# generate from the model\n",
        "context = torch.zeros((1, 1), dtype=torch.long)\n",
        "print(decode(m.generate(context, max_new_tokens=500)[0].tolist()))\n",
        "#open('more.txt', 'w').write(decode(m.generate(context, max_new_tokens=10000)[0].tolist()))"
      ],
      "metadata": {
        "colab": {
          "base_uri": "https://localhost:8080/",
          "height": 211
        },
        "id": "mRhfY0Vqt0z_",
        "outputId": "5ffe6532-28c2-4556-b273-380e6d5ad15a"
      },
      "execution_count": null,
      "outputs": [
        {
          "output_type": "error",
          "ename": "NameError",
          "evalue": "name 'm' is not defined",
          "traceback": [
            "\u001b[0;31m---------------------------------------------------------------------------\u001b[0m",
            "\u001b[0;31mNameError\u001b[0m                                 Traceback (most recent call last)",
            "\u001b[0;32m/tmp/ipython-input-20-3094620183.py\u001b[0m in \u001b[0;36m<cell line: 0>\u001b[0;34m()\u001b[0m\n\u001b[1;32m      1\u001b[0m \u001b[0;31m# generate from the model\u001b[0m\u001b[0;34m\u001b[0m\u001b[0;34m\u001b[0m\u001b[0m\n\u001b[1;32m      2\u001b[0m \u001b[0mcontext\u001b[0m \u001b[0;34m=\u001b[0m \u001b[0mtorch\u001b[0m\u001b[0;34m.\u001b[0m\u001b[0mzeros\u001b[0m\u001b[0;34m(\u001b[0m\u001b[0;34m(\u001b[0m\u001b[0;36m1\u001b[0m\u001b[0;34m,\u001b[0m \u001b[0;36m1\u001b[0m\u001b[0;34m)\u001b[0m\u001b[0;34m,\u001b[0m \u001b[0mdtype\u001b[0m\u001b[0;34m=\u001b[0m\u001b[0mtorch\u001b[0m\u001b[0;34m.\u001b[0m\u001b[0mlong\u001b[0m\u001b[0;34m)\u001b[0m\u001b[0;34m\u001b[0m\u001b[0;34m\u001b[0m\u001b[0m\n\u001b[0;32m----> 3\u001b[0;31m \u001b[0mprint\u001b[0m\u001b[0;34m(\u001b[0m\u001b[0mdecode\u001b[0m\u001b[0;34m(\u001b[0m\u001b[0mm\u001b[0m\u001b[0;34m.\u001b[0m\u001b[0mgenerate\u001b[0m\u001b[0;34m(\u001b[0m\u001b[0mcontext\u001b[0m\u001b[0;34m,\u001b[0m \u001b[0mmax_new_tokens\u001b[0m\u001b[0;34m=\u001b[0m\u001b[0;36m500\u001b[0m\u001b[0;34m)\u001b[0m\u001b[0;34m[\u001b[0m\u001b[0;36m0\u001b[0m\u001b[0;34m]\u001b[0m\u001b[0;34m.\u001b[0m\u001b[0mtolist\u001b[0m\u001b[0;34m(\u001b[0m\u001b[0;34m)\u001b[0m\u001b[0;34m)\u001b[0m\u001b[0;34m)\u001b[0m\u001b[0;34m\u001b[0m\u001b[0;34m\u001b[0m\u001b[0m\n\u001b[0m\u001b[1;32m      4\u001b[0m \u001b[0;31m#open('more.txt', 'w').write(decode(m.generate(context, max_new_tokens=10000)[0].tolist()))\u001b[0m\u001b[0;34m\u001b[0m\u001b[0;34m\u001b[0m\u001b[0m\n",
            "\u001b[0;31mNameError\u001b[0m: name 'm' is not defined"
          ]
        }
      ]
    },
    {
      "cell_type": "markdown",
      "source": [
        "LAYERNORM"
      ],
      "metadata": {
        "id": "K3WmPK4fluOf"
      }
    },
    {
      "cell_type": "code",
      "source": [
        "class BatchNorm1d:\n",
        "  def __init__(self, dim, eps=1e-5, momentum=0.1):\n",
        "    self.eps=eps\n",
        "    #parameters (trained with backdrop)\n",
        "    self.gamma=torch.ones(dim)\n",
        "    self.beta=torch.zeros(dim)\n",
        "  def __call__(self,x):\n",
        "    #cal forward pass\n",
        "    xmean= x.mean(1, keepdim=True)#batch mean\n",
        "    xvar = x.var(1, keepdim=True) #batch variance\n",
        "    xhat=(x-xmean)/torch.sqrt(xvar + self.eps) # normalize to unit varaince\n",
        "    self.out =self.gamma * xhat + self.beta\n",
        "    return self.out\n",
        "  def parameters(self):\n",
        "    return [self.gamma, self.beta]\n",
        "torch.manual_seed(1337)\n",
        "module = BatchNorm1d(100)\n",
        "x=torch.randn(32,100)\n",
        "x=module(x)\n",
        "x.shape"
      ],
      "metadata": {
        "colab": {
          "base_uri": "https://localhost:8080/"
        },
        "id": "6s4QKLelfMl8",
        "outputId": "80797fa5-e2d9-4bc3-fa00-bafa529722a4"
      },
      "execution_count": null,
      "outputs": [
        {
          "output_type": "execute_result",
          "data": {
            "text/plain": [
              "torch.Size([32, 100])"
            ]
          },
          "metadata": {},
          "execution_count": 2
        }
      ]
    },
    {
      "cell_type": "code",
      "source": [
        "import torch\n",
        "import torch.nn as nn\n",
        "from torch.nn import functional as F\n",
        "torch.manual_seed(1337)\n",
        "# hyperparameters\n",
        "batch_size = 64 # how many independent sequences will we process in parallel?\n",
        "block_size = 256 # what is the maximum context length for predictions?\n",
        "max_iters = 5000\n",
        "eval_interval = 500\n",
        "learning_rate = 3e-4\n",
        "device = 'cuda' if torch.cuda.is_available() else 'cpu'\n",
        "eval_iters = 200\n",
        "n_embd = 384\n",
        "n_head = 6\n",
        "n_layer = 6\n",
        "dropout = 0.2\n",
        "\n",
        "class Head(nn.Module):\n",
        "  \"\"\"Single Head of Self Attention\"\"\"\n",
        "  def __init__(self, head_size):\n",
        "    super().__init__()\n",
        "    self.key=nn.Linear(n_embd, head_size, bias=False)\n",
        "    self.query=nn.Linear(n_embd, head_size, bias=False)\n",
        "    self.value=nn.Linear(n_embd, head_size, bias=False)\n",
        "    self.register_buffer('tril', torch.tril(torch.ones(block_size, block_size)))\n",
        "    self.dropout=nn.Dropout(dropout)\n",
        "  def forward(self,x):\n",
        "    B,T,C=x.shape\n",
        "    k=self.key(x)\n",
        "    q=self.query(x)\n",
        "    #Compute attention score(\"\"affinities)\n",
        "    wei =q @ k.transpose(-2,-1)* C**-0.5\n",
        "    wei= wei.masked_fill(self.tril[:T,:T]==0, float('-inf')) # Corrected trill to tril\n",
        "    wei=F.softmax(wei, dim=-1)\n",
        "    #perfrom the weighted aggregation of values\n",
        "    v=self.value(x)# (B,T,C) # Corrected values to value\n",
        "    out =wei @ v\n",
        "    return out\n",
        "\n",
        "class FeedForward(nn.Module):\n",
        "  \"\"\"A simple linear layer followed by a non-linearity\"\"\"\n",
        "  def __init__(self, n_embd):\n",
        "    super().__init__()\n",
        "    self.net=nn.Sequential(\n",
        "        nn.Linear(n_embd, 4*n_embd),\n",
        "        nn.ReLU(),\n",
        "        nn.Linear(4*n_embd, n_embd),\n",
        "        nn.Dropout(dropout),\n",
        "      )\n",
        "  def forward(self, x):\n",
        "     return self.net(x)\n",
        "\n",
        "\n",
        "\n",
        "\n",
        "class MultiHeadAttention(nn.Module):\n",
        "  \"\"\"Multiple heads of self attention model----By rrunning multiple heads in parrallel\"\"\"\n",
        "  def __init__(self, num_heads, head_size):\n",
        "    super().__init__()\n",
        "    self.heads=nn.ModuleList([Head(head_size) for _ in range(num_heads)])\n",
        "    self.proj=nn.Linear(head_size * num_heads, n_embd)\n",
        "    self.dropout=nn.Dropout(dropout)\n",
        "  def forward(self, x):\n",
        "    out = torch.cat([h(x) for h in self.heads], dim=-1)\n",
        "    out =self.proj(out)\n",
        "    out=self.dropout(out) # Apply dropout and return the result\n",
        "    return out\n",
        "\n",
        "class BatchNorm1d:\n",
        "  def __init__(self, dim, eps=1e-5, momentum=0.1):\n",
        "    self.eps=eps\n",
        "    #parameters (trained with backdrop)\n",
        "    self.gamma=torch.ones(dim)\n",
        "    self.beta=torch.zeros(dim)\n",
        "  def __call__(self,x):\n",
        "    #cal forward pass\n",
        "    xmean= x.mean(1, keepdim=True)#batch mean\n",
        "    xvar = x.var(1, keepdim=True) #batch variance\n",
        "    xhat=(x-xmean)/torch.sqrt(xvar + self.eps) # normalize to unit varaince\n",
        "    self.out =self.gamma * xhat + self.beta\n",
        "    return self.out\n",
        "  def parameters(self):\n",
        "    return [self.gamma, self.beta]\n",
        "\n",
        "class Block(nn.Module):\n",
        "  \"\"\"Transformer block: communication followed by computation\"\"\"\n",
        "  def __init__(self, n_embd, n_head):\n",
        "    # n_embd: embedding dimension, n_head: the number of heads we'd like\n",
        "    super().__init__()\n",
        "    head_size=n_embd//n_head\n",
        "    self.sa=MultiHeadAttention(n_head, head_size)\n",
        "    self.ffwd=FeedForward(n_embd)\n",
        "    self.ln1=nn.LayerNorm(n_embd)\n",
        "    self.ln2=nn.LayerNorm(n_embd)\n",
        "  def forward(self, x):\n",
        "    x=x+self.sa(self.ln1(x))\n",
        "    x=x+self.ffwd(self.ln2(x))\n",
        "    return x\n",
        "\n",
        "\n",
        "\n",
        "class BigramLanguageModel(nn.Module): # Corrected indentation\n",
        "    def __init__(self):\n",
        "        super().__init__()\n",
        "        self.token_embedding_table = nn.Embedding(vocab_size, n_embd)\n",
        "        self.position_embedding_table = nn.Embedding(block_size, n_embd) # Added positional embedding\n",
        "        self.blocks = nn.Sequential(*[Block(n_embd, n_head=n_head) for _ in range(n_layer)])\n",
        "        self.ln_f = nn.LayerNorm(n_embd) # final layer norm\n",
        "        self.lm_head=nn.Linear(n_embd, vocab_size)\n",
        "\n",
        "    def forward(self, idx, targets=None):\n",
        "        B, T = idx.shape # Get B and T from idx\n",
        "        #positional encoding\n",
        "        tok_embd = self.token_embedding_table(idx) # (B,T,C)\n",
        "        pos_emb = self.position_embedding_table(torch.arange(T, device=idx.device)) # (T,C), use idx.device\n",
        "        x = tok_embd + pos_emb # (B,T,C)\n",
        "        x=self.blocks(x)#Applied one self attention head\n",
        "        x = self.ln_f(x)\n",
        "        logits = self.lm_head(x) # (B,T,vocab_size)\n",
        "        if targets is None:\n",
        "            loss = None\n",
        "        else:\n",
        "          B, T, C=logits.shape\n",
        "          logits=logits.view(B*T,C)\n",
        "          targets=targets.view(B*T)\n",
        "          loss=F.cross_entropy(logits, targets)\n",
        "        return logits, loss\n",
        "    def generate(self, idx, max_new_tokens):\n",
        "        # idx is (B,T) array of indices in current context\n",
        "        for _ in range(max_new_tokens):\n",
        "          # crop idsx to the last bloc_size tokens\n",
        "          idx_cond=idx[:, -block_size:]\n",
        "          #do the prediciton\n",
        "          logits, loss=self(idx_cond) # Use idx_cond for prediction\n",
        "          #focus only on last time step\n",
        "          logits=logits[:,-1,:]\n",
        "          #apply softmax to do prediction\n",
        "          probs=F.softmax(logits, dim=-1)# (B,C)\n",
        "          #sample from distribution\n",
        "          idx_next=torch.multinomial(probs, num_samples=1)#(B,1)\n",
        "          #append sample index to running sequnece\n",
        "          idx=torch.cat((idx, idx_next), dim=1)#(B,T+1)\n",
        "        return idx\n",
        "\n",
        "# The training loop is incomplete in the user's provided code, so it's not included in this fix.\n",
        "# You would need to instantiate the model and optimizer and then run the training loop."
      ],
      "metadata": {
        "id": "UujvP2M7wAlB"
      },
      "execution_count": 31,
      "outputs": []
    },
    {
      "cell_type": "code",
      "source": [
        "@torch.no_grad()\n",
        "def estimate_loss():\n",
        "    out = {}\n",
        "    model.eval()\n",
        "    for split in ['train', 'val']:\n",
        "        losses = torch.zeros(eval_iters)\n",
        "        for k in range(eval_iters):\n",
        "            X, Y = get_batch(split)\n",
        "            logits, loss = model(X, Y)\n",
        "            losses[k] = loss.item()\n",
        "        out[split] = losses.mean()\n",
        "    model.train()\n",
        "    return out\n",
        "\n",
        "model = BigramLanguageModel()\n",
        "optimizer = torch.optim.AdamW(model.parameters(), lr=learning_rate)\n",
        "\n",
        "for iter in range(max_iters):\n",
        "\n",
        "    # evaluate loss on train and val sets\n",
        "    if iter % eval_interval == 0 or iter == max_iters - 1:\n",
        "        losses = estimate_loss()\n",
        "        print(f\"step {iter}: train loss {losses['train']:.4f}, val loss {losses['val']:.4f}\")\n",
        "\n",
        "    # sample a batch of data\n",
        "    xb, yb = get_batch('train')\n",
        "\n",
        "    # evaluate the loss\n",
        "    logits, loss = model(xb, yb)\n",
        "    optimizer.zero_grad(set_to_none=True)\n",
        "    loss.backward()\n",
        "    optimizer.step()"
      ],
      "metadata": {
        "colab": {
          "base_uri": "https://localhost:8080/"
        },
        "id": "4uRCtcx3wy_1",
        "outputId": "40847baf-8e86-47d8-fc5a-159c1a4bce1d"
      },
      "execution_count": null,
      "outputs": [
        {
          "output_type": "stream",
          "name": "stdout",
          "text": [
            "step 0: train loss 4.2849, val loss 4.2823\n"
          ]
        }
      ]
    }
  ]
}